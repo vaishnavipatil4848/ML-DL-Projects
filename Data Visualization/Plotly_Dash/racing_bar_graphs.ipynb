{
 "metadata": {
  "language_info": {
   "codemirror_mode": {
    "name": "ipython",
    "version": 3
   },
   "file_extension": ".py",
   "mimetype": "text/x-python",
   "name": "python",
   "nbconvert_exporter": "python",
   "pygments_lexer": "ipython3",
   "version": "3.7.6-final"
  },
  "orig_nbformat": 2,
  "kernelspec": {
   "name": "python3",
   "display_name": "Python 3"
  }
 },
 "nbformat": 4,
 "nbformat_minor": 2,
 "cells": [
  {
   "cell_type": "code",
   "execution_count": 1,
   "metadata": {},
   "outputs": [],
   "source": [
    "import pandas as pd\n",
    "import plotly.express as px\n",
    "import plotly.io as pio\n",
    "import numpy as np \n",
    "import plotly.graph_objects as go   "
   ]
  },
  {
   "cell_type": "code",
   "execution_count": 3,
   "metadata": {},
   "outputs": [
    {
     "output_type": "display_data",
     "data": {
      "application/vnd.plotly.v1+json": {
       "config": {
        "plotlyServerURL": "https://plot.ly"
       },
       "data": [
        {
         "insidetextanchor": "middle",
         "marker": {
          "color": [
           "#FF9900",
           "#FF8080",
           "#008080",
           "#993300",
           "#FFCC99"
          ]
         },
         "orientation": "h",
         "text": [
          27.68452724,
          27.96991886,
          28.321015399999997,
          33.81013435,
          98.83169616
         ],
         "textfont": {
          "size": 18
         },
         "textposition": "inside",
         "texttemplate": "%{text:.3s}",
         "type": "bar",
         "width": 0.9,
         "x": [
          27.68452724,
          27.96991886,
          28.321015399999997,
          33.81013435,
          98.83169616
         ],
         "y": [
          "Slovenia",
          "Lithuania",
          "Russia",
          "Hungary",
          "Greenland"
         ]
        }
       ],
       "frames": [
        {
         "data": [
          {
           "marker": {
            "color": [
             "#FF9900",
             "#FF8080",
             "#008080",
             "#993300",
             "#FFCC99"
            ]
           },
           "orientation": "h",
           "text": [
            27.68452724,
            27.96991886,
            28.321015399999997,
            33.81013435,
            98.83169616
           ],
           "type": "bar",
           "x": [
            27.68452724,
            27.96991886,
            28.321015399999997,
            33.81013435,
            98.83169616
           ],
           "y": [
            "Slovenia",
            "Lithuania",
            "Russia",
            "Hungary",
            "Greenland"
           ]
          }
         ],
         "layout": {
          "title": {
           "font": {
            "size": 28
           },
           "text": "Suicide Rates per Country: 1990"
          },
          "xaxis": {
           "autorange": false,
           "range": [
            0,
            60
           ]
          },
          "yaxis": {
           "autorange": false,
           "range": [
            -0.5,
            5.5
           ],
           "tickfont": {
            "size": 14
           }
          }
         }
        },
        {
         "data": [
          {
           "marker": {
            "color": [
             "#FF9900",
             "#008080",
             "#FF8080",
             "#993300",
             "#FFCC99"
            ]
           },
           "orientation": "h",
           "text": [
            28.64423866,
            29.61750428,
            30.868981400000003,
            32.34245015,
            96.08516412
           ],
           "type": "bar",
           "x": [
            28.64423866,
            29.61750428,
            30.868981400000003,
            32.34245015,
            96.08516412
           ],
           "y": [
            "Slovenia",
            "Russia",
            "Lithuania",
            "Hungary",
            "Greenland"
           ]
          }
         ],
         "layout": {
          "title": {
           "font": {
            "size": 28
           },
           "text": "Suicide Rates per Country: 1991"
          },
          "xaxis": {
           "autorange": false,
           "range": [
            0,
            60
           ]
          },
          "yaxis": {
           "autorange": false,
           "range": [
            -0.5,
            5.5
           ],
           "tickfont": {
            "size": 14
           }
          }
         }
        },
        {
         "data": [
          {
           "marker": {
            "color": [
             "#9999FF",
             "#993300",
             "#FF8080",
             "#008080",
             "#FFCC99"
            ]
           },
           "orientation": "h",
           "text": [
            30.32244547,
            32.78575793,
            32.8404175,
            34.48857804,
            93.23062931
           ],
           "type": "bar",
           "x": [
            30.32244547,
            32.78575793,
            32.8404175,
            34.48857804,
            93.23062931
           ],
           "y": [
            "Latvia",
            "Hungary",
            "Lithuania",
            "Russia",
            "Greenland"
           ]
          }
         ],
         "layout": {
          "title": {
           "font": {
            "size": 28
           },
           "text": "Suicide Rates per Country: 1992"
          },
          "xaxis": {
           "autorange": false,
           "range": [
            0,
            60
           ]
          },
          "yaxis": {
           "autorange": false,
           "range": [
            -0.5,
            5.5
           ],
           "tickfont": {
            "size": 14
           }
          }
         }
        },
        {
         "data": [
          {
           "marker": {
            "color": [
             "#800080",
             "#9999FF",
             "#FF8080",
             "#008080",
             "#FFCC99"
            ]
           },
           "orientation": "h",
           "text": [
            34.47647733,
            36.4928388,
            39.46039366,
            44.01726434,
            91.07142832
           ],
           "type": "bar",
           "x": [
            34.47647733,
            36.4928388,
            39.46039366,
            44.01726434,
            91.07142832
           ],
           "y": [
            "Estonia",
            "Latvia",
            "Lithuania",
            "Russia",
            "Greenland"
           ]
          }
         ],
         "layout": {
          "title": {
           "font": {
            "size": 28
           },
           "text": "Suicide Rates per Country: 1993"
          },
          "xaxis": {
           "autorange": false,
           "range": [
            0,
            60
           ]
          },
          "yaxis": {
           "autorange": false,
           "range": [
            -0.5,
            5.5
           ],
           "tickfont": {
            "size": 14
           }
          }
         }
        },
        {
         "data": [
          {
           "marker": {
            "color": [
             "#800080",
             "#9999FF",
             "#FF8080",
             "#008080",
             "#FFCC99"
            ]
           },
           "orientation": "h",
           "text": [
            39.47178508,
            40.87625763,
            44.14595049,
            50.17633284,
            89.22549608
           ],
           "type": "bar",
           "x": [
            39.47178508,
            40.87625763,
            44.14595049,
            50.17633284,
            89.22549608
           ],
           "y": [
            "Estonia",
            "Latvia",
            "Lithuania",
            "Russia",
            "Greenland"
           ]
          }
         ],
         "layout": {
          "title": {
           "font": {
            "size": 28
           },
           "text": "Suicide Rates per Country: 1994"
          },
          "xaxis": {
           "autorange": false,
           "range": [
            0,
            60
           ]
          },
          "yaxis": {
           "autorange": false,
           "range": [
            -0.5,
            5.5
           ],
           "tickfont": {
            "size": 14
           }
          }
         }
        },
        {
         "data": [
          {
           "marker": {
            "color": [
             "#800080",
             "#9999FF",
             "#FF8080",
             "#008080",
             "#FFCC99"
            ]
           },
           "orientation": "h",
           "text": [
            38.1647336,
            38.39237718,
            44.77338671,
            48.07255348,
            87.05193756
           ],
           "type": "bar",
           "x": [
            38.1647336,
            38.39237718,
            44.77338671,
            48.07255348,
            87.05193756
           ],
           "y": [
            "Estonia",
            "Latvia",
            "Lithuania",
            "Russia",
            "Greenland"
           ]
          }
         ],
         "layout": {
          "title": {
           "font": {
            "size": 28
           },
           "text": "Suicide Rates per Country: 1995"
          },
          "xaxis": {
           "autorange": false,
           "range": [
            0,
            60
           ]
          },
          "yaxis": {
           "autorange": false,
           "range": [
            -0.5,
            5.5
           ],
           "tickfont": {
            "size": 14
           }
          }
         }
        },
        {
         "data": [
          {
           "marker": {
            "color": [
             "#9999FF",
             "#800080",
             "#FF8080",
             "#008080",
             "#FFCC99"
            ]
           },
           "orientation": "h",
           "text": [
            32.44108859,
            32.70590405,
            42.79710793,
            43.75022984,
            85.70780258
           ],
           "type": "bar",
           "x": [
            32.44108859,
            32.70590405,
            42.79710793,
            43.75022984,
            85.70780258
           ],
           "y": [
            "Latvia",
            "Estonia",
            "Lithuania",
            "Russia",
            "Greenland"
           ]
          }
         ],
         "layout": {
          "title": {
           "font": {
            "size": 28
           },
           "text": "Suicide Rates per Country: 1996"
          },
          "xaxis": {
           "autorange": false,
           "range": [
            0,
            60
           ]
          },
          "yaxis": {
           "autorange": false,
           "range": [
            -0.5,
            5.5
           ],
           "tickfont": {
            "size": 14
           }
          }
         }
        },
        {
         "data": [
          {
           "marker": {
            "color": [
             "#800080",
             "#FFFFCC",
             "#008080",
             "#FF8080",
             "#FFCC99"
            ]
           },
           "orientation": "h",
           "text": [
            31.87196872,
            32.87936394,
            39.75737961,
            40.78307855,
            84.58582055
           ],
           "type": "bar",
           "x": [
            31.87196872,
            32.87936394,
            39.75737961,
            40.78307855,
            84.58582055
           ],
           "y": [
            "Estonia",
            "Belarus",
            "Russia",
            "Lithuania",
            "Greenland"
           ]
          }
         ],
         "layout": {
          "title": {
           "font": {
            "size": 28
           },
           "text": "Suicide Rates per Country: 1997"
          },
          "xaxis": {
           "autorange": false,
           "range": [
            0,
            60
           ]
          },
          "yaxis": {
           "autorange": false,
           "range": [
            -0.5,
            5.5
           ],
           "tickfont": {
            "size": 14
           }
          }
         }
        },
        {
         "data": [
          {
           "marker": {
            "color": [
             "#800080",
             "#FFFFCC",
             "#008080",
             "#FF8080",
             "#FFCC99"
            ]
           },
           "orientation": "h",
           "text": [
            32.45698366,
            34.5703973,
            38.81936013,
            40.659034399999996,
            82.86845561
           ],
           "type": "bar",
           "x": [
            32.45698366,
            34.5703973,
            38.81936013,
            40.659034399999996,
            82.86845561
           ],
           "y": [
            "Estonia",
            "Belarus",
            "Russia",
            "Lithuania",
            "Greenland"
           ]
          }
         ],
         "layout": {
          "title": {
           "font": {
            "size": 28
           },
           "text": "Suicide Rates per Country: 1998"
          },
          "xaxis": {
           "autorange": false,
           "range": [
            0,
            60
           ]
          },
          "yaxis": {
           "autorange": false,
           "range": [
            -0.5,
            5.5
           ],
           "tickfont": {
            "size": 14
           }
          }
         }
        },
        {
         "data": [
          {
           "marker": {
            "color": [
             "#008000",
             "#FFFFCC",
             "#FF8080",
             "#008080",
             "#FFCC99"
            ]
           },
           "orientation": "h",
           "text": [
            30.04522003,
            35.52301644,
            40.14071997,
            42.49159181,
            80.84243022
           ],
           "type": "bar",
           "x": [
            30.04522003,
            35.52301644,
            40.14071997,
            42.49159181,
            80.84243022
           ],
           "y": [
            "Kazakhstan",
            "Belarus",
            "Lithuania",
            "Russia",
            "Greenland"
           ]
          }
         ],
         "layout": {
          "title": {
           "font": {
            "size": 28
           },
           "text": "Suicide Rates per Country: 1999"
          },
          "xaxis": {
           "autorange": false,
           "range": [
            0,
            60
           ]
          },
          "yaxis": {
           "autorange": false,
           "range": [
            -0.5,
            5.5
           ],
           "tickfont": {
            "size": 14
           }
          }
         }
        },
        {
         "data": [
          {
           "marker": {
            "color": [
             "#008000",
             "#FFFFCC",
             "#FF8080",
             "#008080",
             "#FFCC99"
            ]
           },
           "orientation": "h",
           "text": [
            33.43099146,
            33.72758037,
            40.40695313,
            44.18017983,
            78.58067589
           ],
           "type": "bar",
           "x": [
            33.43099146,
            33.72758037,
            40.40695313,
            44.18017983,
            78.58067589
           ],
           "y": [
            "Kazakhstan",
            "Belarus",
            "Lithuania",
            "Russia",
            "Greenland"
           ]
          }
         ],
         "layout": {
          "title": {
           "font": {
            "size": 28
           },
           "text": "Suicide Rates per Country: 2000"
          },
          "xaxis": {
           "autorange": false,
           "range": [
            0,
            60
           ]
          },
          "yaxis": {
           "autorange": false,
           "range": [
            -0.5,
            5.5
           ],
           "tickfont": {
            "size": 14
           }
          }
         }
        },
        {
         "data": [
          {
           "marker": {
            "color": [
             "#008000",
             "#FFFFCC",
             "#FF8080",
             "#008080",
             "#FFCC99"
            ]
           },
           "orientation": "h",
           "text": [
            35.03061069,
            35.05511370000001,
            41.52278771,
            43.41586102,
            77.13132121
           ],
           "type": "bar",
           "x": [
            35.03061069,
            35.05511370000001,
            41.52278771,
            43.41586102,
            77.13132121
           ],
           "y": [
            "Kazakhstan",
            "Belarus",
            "Lithuania",
            "Russia",
            "Greenland"
           ]
          }
         ],
         "layout": {
          "title": {
           "font": {
            "size": 28
           },
           "text": "Suicide Rates per Country: 2001"
          },
          "xaxis": {
           "autorange": false,
           "range": [
            0,
            60
           ]
          },
          "yaxis": {
           "autorange": false,
           "range": [
            -0.5,
            5.5
           ],
           "tickfont": {
            "size": 14
           }
          }
         }
        },
        {
         "data": [
          {
           "marker": {
            "color": [
             "#008000",
             "#FFFFCC",
             "#FF8080",
             "#008080",
             "#FFCC99"
            ]
           },
           "orientation": "h",
           "text": [
            35.43394987,
            36.95362752,
            39.88733483,
            42.92428152,
            75.29432391
           ],
           "type": "bar",
           "x": [
            35.43394987,
            36.95362752,
            39.88733483,
            42.92428152,
            75.29432391
           ],
           "y": [
            "Kazakhstan",
            "Belarus",
            "Lithuania",
            "Russia",
            "Greenland"
           ]
          }
         ],
         "layout": {
          "title": {
           "font": {
            "size": 28
           },
           "text": "Suicide Rates per Country: 2002"
          },
          "xaxis": {
           "autorange": false,
           "range": [
            0,
            60
           ]
          },
          "yaxis": {
           "autorange": false,
           "range": [
            -0.5,
            5.5
           ],
           "tickfont": {
            "size": 14
           }
          }
         }
        },
        {
         "data": [
          {
           "marker": {
            "color": [
             "#FFFFCC",
             "#008000",
             "#FF8080",
             "#008080",
             "#FFCC99"
            ]
           },
           "orientation": "h",
           "text": [
            35.73983409,
            36.91345613,
            38.45515633,
            42.753197,
            73.55686368
           ],
           "type": "bar",
           "x": [
            35.73983409,
            36.91345613,
            38.45515633,
            42.753197,
            73.55686368
           ],
           "y": [
            "Belarus",
            "Kazakhstan",
            "Lithuania",
            "Russia",
            "Greenland"
           ]
          }
         ],
         "layout": {
          "title": {
           "font": {
            "size": 28
           },
           "text": "Suicide Rates per Country: 2003"
          },
          "xaxis": {
           "autorange": false,
           "range": [
            0,
            60
           ]
          },
          "yaxis": {
           "autorange": false,
           "range": [
            -0.5,
            5.5
           ],
           "tickfont": {
            "size": 14
           }
          }
         }
        },
        {
         "data": [
          {
           "marker": {
            "color": [
             "#FFFFCC",
             "#FF8080",
             "#008000",
             "#008080",
             "#FFCC99"
            ]
           },
           "orientation": "h",
           "text": [
            34.53625807,
            37.54145883,
            37.9621409,
            41.84544795,
            72.50488732
           ],
           "type": "bar",
           "x": [
            34.53625807,
            37.54145883,
            37.9621409,
            41.84544795,
            72.50488732
           ],
           "y": [
            "Belarus",
            "Lithuania",
            "Kazakhstan",
            "Russia",
            "Greenland"
           ]
          }
         ],
         "layout": {
          "title": {
           "font": {
            "size": 28
           },
           "text": "Suicide Rates per Country: 2004"
          },
          "xaxis": {
           "autorange": false,
           "range": [
            0,
            60
           ]
          },
          "yaxis": {
           "autorange": false,
           "range": [
            -0.5,
            5.5
           ],
           "tickfont": {
            "size": 14
           }
          }
         }
        },
        {
         "data": [
          {
           "marker": {
            "color": [
             "#FFFFCC",
             "#008000",
             "#FF8080",
             "#008080",
             "#FFCC99"
            ]
           },
           "orientation": "h",
           "text": [
            35.0777284,
            38.28511187,
            38.56010803,
            43.24536356,
            71.14640689
           ],
           "type": "bar",
           "x": [
            35.0777284,
            38.28511187,
            38.56010803,
            43.24536356,
            71.14640689
           ],
           "y": [
            "Belarus",
            "Kazakhstan",
            "Lithuania",
            "Russia",
            "Greenland"
           ]
          }
         ],
         "layout": {
          "title": {
           "font": {
            "size": 28
           },
           "text": "Suicide Rates per Country: 2005"
          },
          "xaxis": {
           "autorange": false,
           "range": [
            0,
            60
           ]
          },
          "yaxis": {
           "autorange": false,
           "range": [
            -0.5,
            5.5
           ],
           "tickfont": {
            "size": 14
           }
          }
         }
        },
        {
         "data": [
          {
           "marker": {
            "color": [
             "#FFFFCC",
             "#008000",
             "#FF8080",
             "#008080",
             "#FFCC99"
            ]
           },
           "orientation": "h",
           "text": [
            33.11092188,
            37.94302494,
            38.33895401,
            38.56668601,
            69.79954511
           ],
           "type": "bar",
           "x": [
            33.11092188,
            37.94302494,
            38.33895401,
            38.56668601,
            69.79954511
           ],
           "y": [
            "Belarus",
            "Kazakhstan",
            "Lithuania",
            "Russia",
            "Greenland"
           ]
          }
         ],
         "layout": {
          "title": {
           "font": {
            "size": 28
           },
           "text": "Suicide Rates per Country: 2006"
          },
          "xaxis": {
           "autorange": false,
           "range": [
            0,
            60
           ]
          },
          "yaxis": {
           "autorange": false,
           "range": [
            -0.5,
            5.5
           ],
           "tickfont": {
            "size": 14
           }
          }
         }
        },
        {
         "data": [
          {
           "marker": {
            "color": [
             "#FFFFCC",
             "#008080",
             "#008000",
             "#FF8080",
             "#FFCC99"
            ]
           },
           "orientation": "h",
           "text": [
            30.36381932,
            35.699225399999996,
            35.80804768,
            39.55163689,
            67.62227129
           ],
           "type": "bar",
           "x": [
            30.36381932,
            35.699225399999996,
            35.80804768,
            39.55163689,
            67.62227129
           ],
           "y": [
            "Belarus",
            "Russia",
            "Kazakhstan",
            "Lithuania",
            "Greenland"
           ]
          }
         ],
         "layout": {
          "title": {
           "font": {
            "size": 28
           },
           "text": "Suicide Rates per Country: 2007"
          },
          "xaxis": {
           "autorange": false,
           "range": [
            0,
            60
           ]
          },
          "yaxis": {
           "autorange": false,
           "range": [
            -0.5,
            5.5
           ],
           "tickfont": {
            "size": 14
           }
          }
         }
        },
        {
         "data": [
          {
           "marker": {
            "color": [
             "#FFFFCC",
             "#008000",
             "#008080",
             "#FF8080",
             "#FFCC99"
            ]
           },
           "orientation": "h",
           "text": [
            30.48032543,
            32.96248639,
            34.8930479,
            37.03494444,
            66.51679313
           ],
           "type": "bar",
           "x": [
            30.48032543,
            32.96248639,
            34.8930479,
            37.03494444,
            66.51679313
           ],
           "y": [
            "Belarus",
            "Kazakhstan",
            "Russia",
            "Lithuania",
            "Greenland"
           ]
          }
         ],
         "layout": {
          "title": {
           "font": {
            "size": 28
           },
           "text": "Suicide Rates per Country: 2008"
          },
          "xaxis": {
           "autorange": false,
           "range": [
            0,
            60
           ]
          },
          "yaxis": {
           "autorange": false,
           "range": [
            -0.5,
            5.5
           ],
           "tickfont": {
            "size": 14
           }
          }
         }
        },
        {
         "data": [
          {
           "marker": {
            "color": [
             "#FFFFCC",
             "#008000",
             "#008080",
             "#FF8080",
             "#FFCC99"
            ]
           },
           "orientation": "h",
           "text": [
            29.89694257,
            30.06614665,
            32.19579595,
            32.80968449,
            65.21526457
           ],
           "type": "bar",
           "x": [
            29.89694257,
            30.06614665,
            32.19579595,
            32.80968449,
            65.21526457
           ],
           "y": [
            "Belarus",
            "Kazakhstan",
            "Russia",
            "Lithuania",
            "Greenland"
           ]
          }
         ],
         "layout": {
          "title": {
           "font": {
            "size": 28
           },
           "text": "Suicide Rates per Country: 2009"
          },
          "xaxis": {
           "autorange": false,
           "range": [
            0,
            60
           ]
          },
          "yaxis": {
           "autorange": false,
           "range": [
            -0.5,
            5.5
           ],
           "tickfont": {
            "size": 14
           }
          }
         }
        },
        {
         "data": [
          {
           "marker": {
            "color": [
             "#FFFFCC",
             "#008000",
             "#008080",
             "#FF8080",
             "#FFCC99"
            ]
           },
           "orientation": "h",
           "text": [
            29.21760042,
            29.53235606,
            31.87555782,
            32.01011467,
            63.99491137
           ],
           "type": "bar",
           "x": [
            29.21760042,
            29.53235606,
            31.87555782,
            32.01011467,
            63.99491137
           ],
           "y": [
            "Belarus",
            "Kazakhstan",
            "Russia",
            "Lithuania",
            "Greenland"
           ]
          }
         ],
         "layout": {
          "title": {
           "font": {
            "size": 28
           },
           "text": "Suicide Rates per Country: 2010"
          },
          "xaxis": {
           "autorange": false,
           "range": [
            0,
            60
           ]
          },
          "yaxis": {
           "autorange": false,
           "range": [
            -0.5,
            5.5
           ],
           "tickfont": {
            "size": 14
           }
          }
         }
        },
        {
         "data": [
          {
           "marker": {
            "color": [
             "#008000",
             "#FFFFCC",
             "#008080",
             "#FF8080",
             "#FFCC99"
            ]
           },
           "orientation": "h",
           "text": [
            28.497202,
            29.242689600000002,
            29.31352467,
            31.32517588,
            62.108755099999996
           ],
           "type": "bar",
           "x": [
            28.497202,
            29.242689600000002,
            29.31352467,
            31.32517588,
            62.108755099999996
           ],
           "y": [
            "Kazakhstan",
            "Belarus",
            "Russia",
            "Lithuania",
            "Greenland"
           ]
          }
         ],
         "layout": {
          "title": {
           "font": {
            "size": 28
           },
           "text": "Suicide Rates per Country: 2011"
          },
          "xaxis": {
           "autorange": false,
           "range": [
            0,
            60
           ]
          },
          "yaxis": {
           "autorange": false,
           "range": [
            -0.5,
            5.5
           ],
           "tickfont": {
            "size": 14
           }
          }
         }
        },
        {
         "data": [
          {
           "marker": {
            "color": [
             "#FFFFCC",
             "#008000",
             "#008080",
             "#FF8080",
             "#FFCC99"
            ]
           },
           "orientation": "h",
           "text": [
            24.2811457,
            27.36906614,
            28.42101224,
            30.97556589,
            60.46276321
           ],
           "type": "bar",
           "x": [
            24.2811457,
            27.36906614,
            28.42101224,
            30.97556589,
            60.46276321
           ],
           "y": [
            "Belarus",
            "Kazakhstan",
            "Russia",
            "Lithuania",
            "Greenland"
           ]
          }
         ],
         "layout": {
          "title": {
           "font": {
            "size": 28
           },
           "text": "Suicide Rates per Country: 2012"
          },
          "xaxis": {
           "autorange": false,
           "range": [
            0,
            60
           ]
          },
          "yaxis": {
           "autorange": false,
           "range": [
            -0.5,
            5.5
           ],
           "tickfont": {
            "size": 14
           }
          }
         }
        },
        {
         "data": [
          {
           "marker": {
            "color": [
             "#FFFFCC",
             "#008000",
             "#008080",
             "#FF8080",
             "#FFCC99"
            ]
           },
           "orientation": "h",
           "text": [
            22.56644214,
            25.85464155,
            27.75696353,
            31.8997562,
            59.43176918
           ],
           "type": "bar",
           "x": [
            22.56644214,
            25.85464155,
            27.75696353,
            31.8997562,
            59.43176918
           ],
           "y": [
            "Belarus",
            "Kazakhstan",
            "Russia",
            "Lithuania",
            "Greenland"
           ]
          }
         ],
         "layout": {
          "title": {
           "font": {
            "size": 28
           },
           "text": "Suicide Rates per Country: 2013"
          },
          "xaxis": {
           "autorange": false,
           "range": [
            0,
            60
           ]
          },
          "yaxis": {
           "autorange": false,
           "range": [
            -0.5,
            5.5
           ],
           "tickfont": {
            "size": 14
           }
          }
         }
        },
        {
         "data": [
          {
           "marker": {
            "color": [
             "#FFFFCC",
             "#008000",
             "#008080",
             "#FF8080",
             "#FFCC99"
            ]
           },
           "orientation": "h",
           "text": [
            21.09553997,
            23.91206752,
            28.01997006,
            30.4101887,
            58.43569089
           ],
           "type": "bar",
           "x": [
            21.09553997,
            23.91206752,
            28.01997006,
            30.4101887,
            58.43569089
           ],
           "y": [
            "Belarus",
            "Kazakhstan",
            "Russia",
            "Lithuania",
            "Greenland"
           ]
          }
         ],
         "layout": {
          "title": {
           "font": {
            "size": 28
           },
           "text": "Suicide Rates per Country: 2014"
          },
          "xaxis": {
           "autorange": false,
           "range": [
            0,
            60
           ]
          },
          "yaxis": {
           "autorange": false,
           "range": [
            -0.5,
            5.5
           ],
           "tickfont": {
            "size": 14
           }
          }
         }
        },
        {
         "data": [
          {
           "marker": {
            "color": [
             "#008000",
             "#008080",
             "#0066CC",
             "#FF8080",
             "#FFCC99"
            ]
           },
           "orientation": "h",
           "text": [
            22.86606956,
            26.62448443,
            28.42139453,
            29.41731891,
            52.73603901
           ],
           "type": "bar",
           "x": [
            22.86606956,
            26.62448443,
            28.42139453,
            29.41731891,
            52.73603901
           ],
           "y": [
            "Kazakhstan",
            "Russia",
            "Ukraine",
            "Lithuania",
            "Greenland"
           ]
          }
         ],
         "layout": {
          "title": {
           "font": {
            "size": 28
           },
           "text": "Suicide Rates per Country: 2015"
          },
          "xaxis": {
           "autorange": false,
           "range": [
            0,
            60
           ]
          },
          "yaxis": {
           "autorange": false,
           "range": [
            -0.5,
            5.5
           ],
           "tickfont": {
            "size": 14
           }
          }
         }
        },
        {
         "data": [
          {
           "marker": {
            "color": [
             "#008000",
             "#008080",
             "#0066CC",
             "#FF8080",
             "#FFCC99"
            ]
           },
           "orientation": "h",
           "text": [
            22.76949663,
            25.3915076,
            27.96606294,
            28.176799499999998,
            51.60994852
           ],
           "type": "bar",
           "x": [
            22.76949663,
            25.3915076,
            27.96606294,
            28.176799499999998,
            51.60994852
           ],
           "y": [
            "Kazakhstan",
            "Russia",
            "Ukraine",
            "Lithuania",
            "Greenland"
           ]
          }
         ],
         "layout": {
          "title": {
           "font": {
            "size": 28
           },
           "text": "Suicide Rates per Country: 2016"
          },
          "xaxis": {
           "autorange": false,
           "range": [
            0,
            60
           ]
          },
          "yaxis": {
           "autorange": false,
           "range": [
            -0.5,
            5.5
           ],
           "tickfont": {
            "size": 14
           }
          }
         }
        },
        {
         "data": [
          {
           "marker": {
            "color": [
             "#008000",
             "#008080",
             "#0066CC",
             "#FF8080",
             "#FFCC99"
            ]
           },
           "orientation": "h",
           "text": [
            22.98552802,
            25.08766881,
            25.62222536,
            27.99058442,
            51.06323868
           ],
           "type": "bar",
           "x": [
            22.98552802,
            25.08766881,
            25.62222536,
            27.99058442,
            51.06323868
           ],
           "y": [
            "Kazakhstan",
            "Russia",
            "Ukraine",
            "Lithuania",
            "Greenland"
           ]
          }
         ],
         "layout": {
          "title": {
           "font": {
            "size": 28
           },
           "text": "Suicide Rates per Country: 2017"
          },
          "xaxis": {
           "autorange": false,
           "range": [
            0,
            60
           ]
          },
          "yaxis": {
           "autorange": false,
           "range": [
            -0.5,
            5.5
           ],
           "tickfont": {
            "size": 14
           }
          }
         }
        }
       ],
       "layout": {
        "template": {
         "data": {
          "bar": [
           {
            "error_x": {
             "color": "#2a3f5f"
            },
            "error_y": {
             "color": "#2a3f5f"
            },
            "marker": {
             "line": {
              "color": "#E5ECF6",
              "width": 0.5
             }
            },
            "type": "bar"
           }
          ],
          "barpolar": [
           {
            "marker": {
             "line": {
              "color": "#E5ECF6",
              "width": 0.5
             }
            },
            "type": "barpolar"
           }
          ],
          "carpet": [
           {
            "aaxis": {
             "endlinecolor": "#2a3f5f",
             "gridcolor": "white",
             "linecolor": "white",
             "minorgridcolor": "white",
             "startlinecolor": "#2a3f5f"
            },
            "baxis": {
             "endlinecolor": "#2a3f5f",
             "gridcolor": "white",
             "linecolor": "white",
             "minorgridcolor": "white",
             "startlinecolor": "#2a3f5f"
            },
            "type": "carpet"
           }
          ],
          "choropleth": [
           {
            "colorbar": {
             "outlinewidth": 0,
             "ticks": ""
            },
            "type": "choropleth"
           }
          ],
          "contour": [
           {
            "colorbar": {
             "outlinewidth": 0,
             "ticks": ""
            },
            "colorscale": [
             [
              0,
              "#0d0887"
             ],
             [
              0.1111111111111111,
              "#46039f"
             ],
             [
              0.2222222222222222,
              "#7201a8"
             ],
             [
              0.3333333333333333,
              "#9c179e"
             ],
             [
              0.4444444444444444,
              "#bd3786"
             ],
             [
              0.5555555555555556,
              "#d8576b"
             ],
             [
              0.6666666666666666,
              "#ed7953"
             ],
             [
              0.7777777777777778,
              "#fb9f3a"
             ],
             [
              0.8888888888888888,
              "#fdca26"
             ],
             [
              1,
              "#f0f921"
             ]
            ],
            "type": "contour"
           }
          ],
          "contourcarpet": [
           {
            "colorbar": {
             "outlinewidth": 0,
             "ticks": ""
            },
            "type": "contourcarpet"
           }
          ],
          "heatmap": [
           {
            "colorbar": {
             "outlinewidth": 0,
             "ticks": ""
            },
            "colorscale": [
             [
              0,
              "#0d0887"
             ],
             [
              0.1111111111111111,
              "#46039f"
             ],
             [
              0.2222222222222222,
              "#7201a8"
             ],
             [
              0.3333333333333333,
              "#9c179e"
             ],
             [
              0.4444444444444444,
              "#bd3786"
             ],
             [
              0.5555555555555556,
              "#d8576b"
             ],
             [
              0.6666666666666666,
              "#ed7953"
             ],
             [
              0.7777777777777778,
              "#fb9f3a"
             ],
             [
              0.8888888888888888,
              "#fdca26"
             ],
             [
              1,
              "#f0f921"
             ]
            ],
            "type": "heatmap"
           }
          ],
          "heatmapgl": [
           {
            "colorbar": {
             "outlinewidth": 0,
             "ticks": ""
            },
            "colorscale": [
             [
              0,
              "#0d0887"
             ],
             [
              0.1111111111111111,
              "#46039f"
             ],
             [
              0.2222222222222222,
              "#7201a8"
             ],
             [
              0.3333333333333333,
              "#9c179e"
             ],
             [
              0.4444444444444444,
              "#bd3786"
             ],
             [
              0.5555555555555556,
              "#d8576b"
             ],
             [
              0.6666666666666666,
              "#ed7953"
             ],
             [
              0.7777777777777778,
              "#fb9f3a"
             ],
             [
              0.8888888888888888,
              "#fdca26"
             ],
             [
              1,
              "#f0f921"
             ]
            ],
            "type": "heatmapgl"
           }
          ],
          "histogram": [
           {
            "marker": {
             "colorbar": {
              "outlinewidth": 0,
              "ticks": ""
             }
            },
            "type": "histogram"
           }
          ],
          "histogram2d": [
           {
            "colorbar": {
             "outlinewidth": 0,
             "ticks": ""
            },
            "colorscale": [
             [
              0,
              "#0d0887"
             ],
             [
              0.1111111111111111,
              "#46039f"
             ],
             [
              0.2222222222222222,
              "#7201a8"
             ],
             [
              0.3333333333333333,
              "#9c179e"
             ],
             [
              0.4444444444444444,
              "#bd3786"
             ],
             [
              0.5555555555555556,
              "#d8576b"
             ],
             [
              0.6666666666666666,
              "#ed7953"
             ],
             [
              0.7777777777777778,
              "#fb9f3a"
             ],
             [
              0.8888888888888888,
              "#fdca26"
             ],
             [
              1,
              "#f0f921"
             ]
            ],
            "type": "histogram2d"
           }
          ],
          "histogram2dcontour": [
           {
            "colorbar": {
             "outlinewidth": 0,
             "ticks": ""
            },
            "colorscale": [
             [
              0,
              "#0d0887"
             ],
             [
              0.1111111111111111,
              "#46039f"
             ],
             [
              0.2222222222222222,
              "#7201a8"
             ],
             [
              0.3333333333333333,
              "#9c179e"
             ],
             [
              0.4444444444444444,
              "#bd3786"
             ],
             [
              0.5555555555555556,
              "#d8576b"
             ],
             [
              0.6666666666666666,
              "#ed7953"
             ],
             [
              0.7777777777777778,
              "#fb9f3a"
             ],
             [
              0.8888888888888888,
              "#fdca26"
             ],
             [
              1,
              "#f0f921"
             ]
            ],
            "type": "histogram2dcontour"
           }
          ],
          "mesh3d": [
           {
            "colorbar": {
             "outlinewidth": 0,
             "ticks": ""
            },
            "type": "mesh3d"
           }
          ],
          "parcoords": [
           {
            "line": {
             "colorbar": {
              "outlinewidth": 0,
              "ticks": ""
             }
            },
            "type": "parcoords"
           }
          ],
          "pie": [
           {
            "automargin": true,
            "type": "pie"
           }
          ],
          "scatter": [
           {
            "marker": {
             "colorbar": {
              "outlinewidth": 0,
              "ticks": ""
             }
            },
            "type": "scatter"
           }
          ],
          "scatter3d": [
           {
            "line": {
             "colorbar": {
              "outlinewidth": 0,
              "ticks": ""
             }
            },
            "marker": {
             "colorbar": {
              "outlinewidth": 0,
              "ticks": ""
             }
            },
            "type": "scatter3d"
           }
          ],
          "scattercarpet": [
           {
            "marker": {
             "colorbar": {
              "outlinewidth": 0,
              "ticks": ""
             }
            },
            "type": "scattercarpet"
           }
          ],
          "scattergeo": [
           {
            "marker": {
             "colorbar": {
              "outlinewidth": 0,
              "ticks": ""
             }
            },
            "type": "scattergeo"
           }
          ],
          "scattergl": [
           {
            "marker": {
             "colorbar": {
              "outlinewidth": 0,
              "ticks": ""
             }
            },
            "type": "scattergl"
           }
          ],
          "scattermapbox": [
           {
            "marker": {
             "colorbar": {
              "outlinewidth": 0,
              "ticks": ""
             }
            },
            "type": "scattermapbox"
           }
          ],
          "scatterpolar": [
           {
            "marker": {
             "colorbar": {
              "outlinewidth": 0,
              "ticks": ""
             }
            },
            "type": "scatterpolar"
           }
          ],
          "scatterpolargl": [
           {
            "marker": {
             "colorbar": {
              "outlinewidth": 0,
              "ticks": ""
             }
            },
            "type": "scatterpolargl"
           }
          ],
          "scatterternary": [
           {
            "marker": {
             "colorbar": {
              "outlinewidth": 0,
              "ticks": ""
             }
            },
            "type": "scatterternary"
           }
          ],
          "surface": [
           {
            "colorbar": {
             "outlinewidth": 0,
             "ticks": ""
            },
            "colorscale": [
             [
              0,
              "#0d0887"
             ],
             [
              0.1111111111111111,
              "#46039f"
             ],
             [
              0.2222222222222222,
              "#7201a8"
             ],
             [
              0.3333333333333333,
              "#9c179e"
             ],
             [
              0.4444444444444444,
              "#bd3786"
             ],
             [
              0.5555555555555556,
              "#d8576b"
             ],
             [
              0.6666666666666666,
              "#ed7953"
             ],
             [
              0.7777777777777778,
              "#fb9f3a"
             ],
             [
              0.8888888888888888,
              "#fdca26"
             ],
             [
              1,
              "#f0f921"
             ]
            ],
            "type": "surface"
           }
          ],
          "table": [
           {
            "cells": {
             "fill": {
              "color": "#EBF0F8"
             },
             "line": {
              "color": "white"
             }
            },
            "header": {
             "fill": {
              "color": "#C8D4E3"
             },
             "line": {
              "color": "white"
             }
            },
            "type": "table"
           }
          ]
         },
         "layout": {
          "annotationdefaults": {
           "arrowcolor": "#2a3f5f",
           "arrowhead": 0,
           "arrowwidth": 1
          },
          "coloraxis": {
           "colorbar": {
            "outlinewidth": 0,
            "ticks": ""
           }
          },
          "colorscale": {
           "diverging": [
            [
             0,
             "#8e0152"
            ],
            [
             0.1,
             "#c51b7d"
            ],
            [
             0.2,
             "#de77ae"
            ],
            [
             0.3,
             "#f1b6da"
            ],
            [
             0.4,
             "#fde0ef"
            ],
            [
             0.5,
             "#f7f7f7"
            ],
            [
             0.6,
             "#e6f5d0"
            ],
            [
             0.7,
             "#b8e186"
            ],
            [
             0.8,
             "#7fbc41"
            ],
            [
             0.9,
             "#4d9221"
            ],
            [
             1,
             "#276419"
            ]
           ],
           "sequential": [
            [
             0,
             "#0d0887"
            ],
            [
             0.1111111111111111,
             "#46039f"
            ],
            [
             0.2222222222222222,
             "#7201a8"
            ],
            [
             0.3333333333333333,
             "#9c179e"
            ],
            [
             0.4444444444444444,
             "#bd3786"
            ],
            [
             0.5555555555555556,
             "#d8576b"
            ],
            [
             0.6666666666666666,
             "#ed7953"
            ],
            [
             0.7777777777777778,
             "#fb9f3a"
            ],
            [
             0.8888888888888888,
             "#fdca26"
            ],
            [
             1,
             "#f0f921"
            ]
           ],
           "sequentialminus": [
            [
             0,
             "#0d0887"
            ],
            [
             0.1111111111111111,
             "#46039f"
            ],
            [
             0.2222222222222222,
             "#7201a8"
            ],
            [
             0.3333333333333333,
             "#9c179e"
            ],
            [
             0.4444444444444444,
             "#bd3786"
            ],
            [
             0.5555555555555556,
             "#d8576b"
            ],
            [
             0.6666666666666666,
             "#ed7953"
            ],
            [
             0.7777777777777778,
             "#fb9f3a"
            ],
            [
             0.8888888888888888,
             "#fdca26"
            ],
            [
             1,
             "#f0f921"
            ]
           ]
          },
          "colorway": [
           "#636efa",
           "#EF553B",
           "#00cc96",
           "#ab63fa",
           "#FFA15A",
           "#19d3f3",
           "#FF6692",
           "#B6E880",
           "#FF97FF",
           "#FECB52"
          ],
          "font": {
           "color": "#2a3f5f"
          },
          "geo": {
           "bgcolor": "white",
           "lakecolor": "white",
           "landcolor": "#E5ECF6",
           "showlakes": true,
           "showland": true,
           "subunitcolor": "white"
          },
          "hoverlabel": {
           "align": "left"
          },
          "hovermode": "closest",
          "mapbox": {
           "style": "light"
          },
          "paper_bgcolor": "white",
          "plot_bgcolor": "#E5ECF6",
          "polar": {
           "angularaxis": {
            "gridcolor": "white",
            "linecolor": "white",
            "ticks": ""
           },
           "bgcolor": "#E5ECF6",
           "radialaxis": {
            "gridcolor": "white",
            "linecolor": "white",
            "ticks": ""
           }
          },
          "scene": {
           "xaxis": {
            "backgroundcolor": "#E5ECF6",
            "gridcolor": "white",
            "gridwidth": 2,
            "linecolor": "white",
            "showbackground": true,
            "ticks": "",
            "zerolinecolor": "white"
           },
           "yaxis": {
            "backgroundcolor": "#E5ECF6",
            "gridcolor": "white",
            "gridwidth": 2,
            "linecolor": "white",
            "showbackground": true,
            "ticks": "",
            "zerolinecolor": "white"
           },
           "zaxis": {
            "backgroundcolor": "#E5ECF6",
            "gridcolor": "white",
            "gridwidth": 2,
            "linecolor": "white",
            "showbackground": true,
            "ticks": "",
            "zerolinecolor": "white"
           }
          },
          "shapedefaults": {
           "line": {
            "color": "#2a3f5f"
           }
          },
          "ternary": {
           "aaxis": {
            "gridcolor": "white",
            "linecolor": "white",
            "ticks": ""
           },
           "baxis": {
            "gridcolor": "white",
            "linecolor": "white",
            "ticks": ""
           },
           "bgcolor": "#E5ECF6",
           "caxis": {
            "gridcolor": "white",
            "linecolor": "white",
            "ticks": ""
           }
          },
          "title": {
           "x": 0.05
          },
          "xaxis": {
           "automargin": true,
           "gridcolor": "white",
           "linecolor": "white",
           "ticks": "",
           "title": {
            "standoff": 15
           },
           "zerolinecolor": "white",
           "zerolinewidth": 2
          },
          "yaxis": {
           "automargin": true,
           "gridcolor": "white",
           "linecolor": "white",
           "ticks": "",
           "title": {
            "standoff": 15
           },
           "zerolinecolor": "white",
           "zerolinewidth": 2
          }
         }
        },
        "title": {
         "font": {
          "size": 28
         },
         "text": "Suicide Rates per Country: 1990",
         "x": 0.5,
         "xanchor": "center"
        },
        "updatemenus": [
         {
          "buttons": [
           {
            "args": [
             null,
             {
              "frame": {
               "duration": 1000,
               "redraw": true
              },
              "transition": {
               "duration": 250,
               "easing": "linear"
              }
             }
            ],
            "label": "Play",
            "method": "animate"
           }
          ],
          "type": "buttons"
         }
        ],
        "xaxis": {
         "autorange": false,
         "range": [
          0,
          60
         ],
         "title": {
          "font": {
           "size": 18
          },
          "text": "suicide rate (deaths per 100,000)"
         }
        },
        "yaxis": {
         "autorange": false,
         "range": [
          -0.5,
          5.5
         ],
         "tickfont": {
          "size": 14
         }
        }
       }
      }
     },
     "metadata": {}
    }
   ],
   "source": [
    "df = pd.read_csv(\"suicide-rate-1990-2017.csv\")\n",
    "\n",
    "# print(df[:5])\n",
    "\n",
    "dict_keys=['one','two','three','four','five','six','seven','eight','nine','ten','eleven','twelve','thirteen',\n",
    "           'fourteen','fifteen','sixteen','seventeen','eighteen','nineteen','twenty','twentyone','twentytwo',\n",
    "           'twentythree','twentyfour','twentyfive','twentysix','twentyseven','twentyeight']\n",
    "\n",
    "years=[1990,1991,1992,1993,1994,1995,1996,1997,1998,1999,2000,2001,2002,2003,\n",
    "       2004,2005,2006,2007,2008,2009,2010,2011,2012,2013,2014,2015,2016,2017]\n",
    "\n",
    "n_frame={}\n",
    "\n",
    "for y, d in zip(years, dict_keys):\n",
    "    dataframe=df[(df['year']==y)&(df['region']=='Europe')]\n",
    "    dataframe=dataframe.nlargest(n=5,columns=['suicide rate (deaths per 100,000)'])\n",
    "    dataframe=dataframe.sort_values(by=['year','suicide rate (deaths per 100,000)'])\n",
    "\n",
    "    n_frame[d]=dataframe\n",
    "\n",
    "# print (n_frame)\n",
    "\n",
    "#-------------------------------------------\n",
    "fig = go.Figure(\n",
    "    data=[\n",
    "        go.Bar(\n",
    "        x=n_frame['one']['suicide rate (deaths per 100,000)'], y=n_frame['one']['country'],orientation='h',\n",
    "        text=n_frame['one']['suicide rate (deaths per 100,000)'], texttemplate='%{text:.3s}',\n",
    "        textfont={'size':18}, textposition='inside', insidetextanchor='middle',\n",
    "        width=0.9, marker={'color':n_frame['one']['color_code']})\n",
    "    ],\n",
    "    layout=go.Layout(\n",
    "        xaxis=dict(range=[0, 60], autorange=False, title=dict(text='suicide rate (deaths per 100,000)',font=dict(size=18))),\n",
    "        yaxis=dict(range=[-0.5, 5.5], autorange=False,tickfont=dict(size=14)),\n",
    "        title=dict(text='Suicide Rates per Country: 1990',font=dict(size=28),x=0.5,xanchor='center'),\n",
    "        # Add button\n",
    "        updatemenus=[dict(\n",
    "            type=\"buttons\",\n",
    "            buttons=[dict(label=\"Play\",\n",
    "                          method=\"animate\",\n",
    "                          # https://github.com/plotly/plotly.js/blob/master/src/plots/animation_attributes.js\n",
    "                          args=[None,\n",
    "                          {\"frame\": {\"duration\": 1000, \"redraw\": True},\n",
    "                          \"transition\": {\"duration\":250,\n",
    "                          \"easing\": \"linear\"}}]\n",
    "            )]\n",
    "        )]\n",
    "    ),\n",
    "    frames=[\n",
    "            go.Frame(\n",
    "                data=[\n",
    "                        go.Bar(x=value['suicide rate (deaths per 100,000)'], y=value['country'],\n",
    "                        orientation='h',text=value['suicide rate (deaths per 100,000)'],\n",
    "                        marker={'color':value['color_code']})\n",
    "                    ],\n",
    "                layout=go.Layout(\n",
    "                        xaxis=dict(range=[0, 60], autorange=False),\n",
    "                        yaxis=dict(range=[-0.5, 5.5], autorange=False,tickfont=dict(size=14)),\n",
    "                        title=dict(text='Suicide Rates per Country: '+str(value['year'].values[0]),\n",
    "                        font=dict(size=28))\n",
    "                    )\n",
    "            )\n",
    "        for key, value in n_frame.items()\n",
    "    ]\n",
    ")\n",
    "\n",
    "#-------------------------------------------\n",
    "fig.write_html(\"racing_bar_graph.html\")\n",
    "pio.show(fig)\n"
   ]
  },
  {
   "cell_type": "code",
   "execution_count": null,
   "metadata": {},
   "outputs": [],
   "source": []
  }
 ]
}